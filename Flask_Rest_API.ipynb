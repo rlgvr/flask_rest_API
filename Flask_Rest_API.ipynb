{
  "cells": [
    {
      "cell_type": "code",
      "execution_count": 1,
      "metadata": {
        "colab": {
          "base_uri": "https://localhost:8080/"
        },
        "id": "xVtebfRs0P-r",
        "outputId": "695ad68a-13f8-4a52-a42d-ac70af90d430"
      },
      "outputs": [
        {
          "output_type": "stream",
          "name": "stdout",
          "text": [
            "Looking in indexes: https://pypi.org/simple, https://us-python.pkg.dev/colab-wheels/public/simple/\n",
            "Collecting flask-ngrok\n",
            "  Downloading flask_ngrok-0.0.25-py3-none-any.whl (3.1 kB)\n",
            "Requirement already satisfied: Flask>=0.8 in /usr/local/lib/python3.7/dist-packages (from flask-ngrok) (1.1.4)\n",
            "Requirement already satisfied: requests in /usr/local/lib/python3.7/dist-packages (from flask-ngrok) (2.23.0)\n",
            "Requirement already satisfied: click<8.0,>=5.1 in /usr/local/lib/python3.7/dist-packages (from Flask>=0.8->flask-ngrok) (7.1.2)\n",
            "Requirement already satisfied: Werkzeug<2.0,>=0.15 in /usr/local/lib/python3.7/dist-packages (from Flask>=0.8->flask-ngrok) (1.0.1)\n",
            "Requirement already satisfied: itsdangerous<2.0,>=0.24 in /usr/local/lib/python3.7/dist-packages (from Flask>=0.8->flask-ngrok) (1.1.0)\n",
            "Requirement already satisfied: Jinja2<3.0,>=2.10.1 in /usr/local/lib/python3.7/dist-packages (from Flask>=0.8->flask-ngrok) (2.11.3)\n",
            "Requirement already satisfied: MarkupSafe>=0.23 in /usr/local/lib/python3.7/dist-packages (from Jinja2<3.0,>=2.10.1->Flask>=0.8->flask-ngrok) (2.0.1)\n",
            "Requirement already satisfied: urllib3!=1.25.0,!=1.25.1,<1.26,>=1.21.1 in /usr/local/lib/python3.7/dist-packages (from requests->flask-ngrok) (1.24.3)\n",
            "Requirement already satisfied: certifi>=2017.4.17 in /usr/local/lib/python3.7/dist-packages (from requests->flask-ngrok) (2022.6.15)\n",
            "Requirement already satisfied: idna<3,>=2.5 in /usr/local/lib/python3.7/dist-packages (from requests->flask-ngrok) (2.10)\n",
            "Requirement already satisfied: chardet<4,>=3.0.2 in /usr/local/lib/python3.7/dist-packages (from requests->flask-ngrok) (3.0.4)\n",
            "Installing collected packages: flask-ngrok\n",
            "Successfully installed flask-ngrok-0.0.25\n"
          ]
        }
      ],
      "source": [
        "!pip install flask-ngrok"
      ]
    },
    {
      "cell_type": "code",
      "execution_count": 2,
      "metadata": {
        "id": "wCqYAMCE0iXl"
      },
      "outputs": [],
      "source": [
        "from flask_ngrok import run_with_ngrok\n",
        "from flask import Flask\n",
        "\n",
        "import numpy as np\n",
        "import pandas as pd\n",
        "import matplotlib.pyplot as plt\n",
        "import os \n",
        "\n",
        "from flask import Flask, request, redirect, url_for, send_from_directory, render_template\n",
        "from werkzeug.utils import secure_filename\n",
        "\n",
        "from keras_preprocessing.image import ImageDataGenerator, load_img, img_to_array\n",
        "from keras.models import Sequential, load_model\n",
        "\n",
        "from tensorflow.keras.applications import ResNet50\n",
        "from tensorflow.keras.applications.resnet50 import preprocess_input, decode_predictions\n",
        "from tensorflow.keras.applications.resnet50 import ResNet50\n",
        "\n",
        "from tensorflow.keras.preprocessing import image"
      ]
    },
    {
      "cell_type": "code",
      "execution_count": 3,
      "metadata": {
        "id": "Zz4XS6vQ02X4"
      },
      "outputs": [],
      "source": [
        "a = '''\n",
        "<!doctype html>\n",
        "<html lang=\"en\">\n",
        "<head>\n",
        "  <meta charset=\"UTF-8\">\n",
        "  <meta name=\"viewport\" content=\"width=device-width, initial-scale=1\">\n",
        "<link rel=\"stylesheet\" href=\"https://maxcdn.bootstrapcdn.com/bootstrap/3.3.7/css/bootstrap.min.css\">\n",
        "<script src=\"https://ajax.googleapis.com/ajax/libs/jquery/3.1.1/jquery.min.js\" type=\"text/javascript\"></script>\n",
        "<script src=\"https://maxcdn.bootstrapcdn.com/bootstrap/3.3.7/js/bootstrap.min.js\" type=\"text/javascript\"></script>\n",
        "  <title>Image Recognition Server</title>\n",
        "  <body class style=\"margin:10px;padding:10px\">\n",
        "    <div class=\"page-header\" id=\"banner\">\n",
        "      <div class=\"row\">\n",
        "        <div class=\"col-lg-8 col-md-7 col-sm-6\">\n",
        "          <h3>Image Recognition Server</h3>\n",
        "          <p class=\"lead\">Upload the image and find out what an animal is located on it?</p>\n",
        "        </div>\n",
        "      </div>\n",
        "      <form action=\"\" method=post enctype=multipart/form-data>\n",
        "        <input type=file name=file>\n",
        "        <input type=submit value=Upload>\n",
        "    </form>\n",
        "    </div>\n",
        "    <p style=\"margin-bottom:2cm;\"></p>\n",
        "    <div class=\"row\">\n",
        "        <div class=\"col-lg-4\">\n",
        "          <div class=\"page-header\">\n",
        "            <h3 id=\"tables\">Result</h3>\n",
        "          </div>\n",
        "          <div class=\"bs-component\">\n",
        "            <table class=\"table table-hover\">\n",
        "                <tr class=\"table-active\">\n",
        "                 \n",
        "                  <th scope=\"col\">Predict</th>\n",
        "                </tr>\n",
        "                <tr>\n",
        "                         <td> {{label}} </td>\n",
        "                  </tr>\n",
        "            </table> \n",
        "        </div>\n",
        "      </div>\n",
        "  </body>\n",
        "  '''"
      ]
    },
    {
      "cell_type": "code",
      "execution_count": 4,
      "metadata": {
        "id": "a-BO8nje0-dt"
      },
      "outputs": [],
      "source": [
        "procfile = 'web: gunicorn app:app'\n",
        "procfiles = open('/content/Procfile', 'w')\n",
        "procfiles.write(procfile)\n",
        "procfiles.close()"
      ]
    },
    {
      "cell_type": "code",
      "execution_count": 5,
      "metadata": {
        "id": "bF4OfVSC1b4Q"
      },
      "outputs": [],
      "source": [
        "!mkdir '/content/templates'\n",
        "!mkdir '/content/uploads'"
      ]
    },
    {
      "cell_type": "code",
      "execution_count": 6,
      "metadata": {
        "id": "uz71wdoC10vZ"
      },
      "outputs": [],
      "source": [
        "Html_file = open('/content/templates/index.html', 'w')"
      ]
    },
    {
      "cell_type": "code",
      "execution_count": 7,
      "metadata": {
        "id": "48QapUsF1_XQ"
      },
      "outputs": [],
      "source": [
        "Html_file.write(a)\n",
        "Html_file.close()"
      ]
    },
    {
      "cell_type": "code",
      "execution_count": 8,
      "metadata": {
        "id": "5B0NFafE2N6T"
      },
      "outputs": [],
      "source": [
        "ALLOWED_EXTENSIONS = set(['jpg', 'jpeg', 'png'])\n",
        "IMAGE_SIZE = (224, 224)\n",
        "UPLOAD_FOLDER = 'uploads'\n",
        "model = None\n",
        "app = Flask(__name__)\n",
        "run_with_ngrok(app)\n",
        "UPLOAD_FOLDER = 'uploads'\n",
        "app.config['UPLOAD_FOLDER'] = UPLOAD_FOLDER"
      ]
    },
    {
      "cell_type": "code",
      "execution_count": 9,
      "metadata": {
        "id": "YPCFLHRW2b93"
      },
      "outputs": [],
      "source": [
        "def load_model():\n",
        "\n",
        "  global model\n",
        "  model = ResNet50(weights='imagenet')"
      ]
    },
    {
      "cell_type": "code",
      "execution_count": 10,
      "metadata": {
        "id": "YH29LJSO3MUw"
      },
      "outputs": [],
      "source": [
        "def allowed_file(filename):\n",
        "  return '.' in filename and filename.rsplit('.', 1)[1] in ALLOWED_EXTENSIONS"
      ]
    },
    {
      "cell_type": "code",
      "execution_count": 11,
      "metadata": {
        "id": "chnPIAay5c25"
      },
      "outputs": [],
      "source": [
        "def predict(file):\n",
        "    img  = image.load_img(file, target_size=IMAGE_SIZE)\n",
        "    img = img_to_array(img)\n",
        "    img = np.expand_dims(img, axis=0)\n",
        "    img = preprocess_input(img)\n",
        "    probs = model.predict(img)\n",
        "    \n",
        "    topfive_labels = \" \"\n",
        "    for (imagenetID, label, prob) in decode_predictions(probs, top=5)[0]:\n",
        "      topfive_labels += str(label+\", \")\n",
        "    return topfive_labels\n"
      ]
    },
    {
      "cell_type": "markdown",
      "metadata": {
        "id": "Ewt0marq6043"
      },
      "source": [
        "# API functions:"
      ]
    },
    {
      "cell_type": "code",
      "execution_count": 12,
      "metadata": {
        "id": "UhweX4-P7SIy"
      },
      "outputs": [],
      "source": [
        "@app.route(\"/\")\n",
        "def template_test():\n",
        "    return render_template('index.html', label='', imagesource='file://null')\n",
        "\n",
        "\n",
        "@app.route('/', methods=['POST'])\n",
        "def upload_file():\n",
        "    \n",
        "        file = request.files['file']\n",
        "        \n",
        "        if file and allowed_file(file.filename):\n",
        "            filename = secure_filename(file.filename)\n",
        "            file_path = os.path.join(app.config['UPLOAD_FOLDER'], filename)\n",
        "            file.save(file_path)\n",
        "            output = predict(file_path)\n",
        "        return render_template(\"index.html\", label=output)"
      ]
    },
    {
      "cell_type": "code",
      "execution_count": null,
      "metadata": {
        "colab": {
          "background_save": true,
          "base_uri": "https://localhost:8080/"
        },
        "id": "8jAum9Ik8WQm",
        "outputId": "b67efd7a-010c-4e95-c1e7-d9575f64e3a2"
      },
      "outputs": [
        {
          "output_type": "stream",
          "name": "stdout",
          "text": [
            "Downloading data from https://storage.googleapis.com/tensorflow/keras-applications/resnet/resnet50_weights_tf_dim_ordering_tf_kernels.h5\n",
            "102973440/102967424 [==============================] - 1s 0us/step\n",
            "102981632/102967424 [==============================] - 1s 0us/step\n",
            " * Serving Flask app \"__main__\" (lazy loading)\n",
            " * Environment: production\n",
            "\u001b[31m   WARNING: This is a development server. Do not use it in a production deployment.\u001b[0m\n",
            "\u001b[2m   Use a production WSGI server instead.\u001b[0m\n",
            " * Debug mode: off\n"
          ]
        },
        {
          "output_type": "stream",
          "name": "stderr",
          "text": [
            " * Running on http://127.0.0.1:5000/ (Press CTRL+C to quit)\n"
          ]
        },
        {
          "output_type": "stream",
          "name": "stdout",
          "text": [
            " * Running on http://0bdd-35-192-149-86.ngrok.io\n",
            " * Traffic stats available on http://127.0.0.1:4040\n"
          ]
        }
      ],
      "source": [
        "if __name__=='__main__':\n",
        "  load_model()\n",
        "  app.run()"
      ]
    }
  ],
  "metadata": {
    "colab": {
      "collapsed_sections": [],
      "name": "Flask_Rest_API.ipynb",
      "provenance": []
    },
    "kernelspec": {
      "display_name": "Python 3",
      "name": "python3"
    },
    "language_info": {
      "name": "python"
    }
  },
  "nbformat": 4,
  "nbformat_minor": 0
}